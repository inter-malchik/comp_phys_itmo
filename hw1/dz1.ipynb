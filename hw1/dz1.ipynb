{
 "cells": [
  {
   "cell_type": "markdown",
   "metadata": {},
   "source": [
    "# Харлунин А.А. (M32021 | ФВЧФ 1.1)"
   ]
  },
  {
   "cell_type": "code",
   "execution_count": 1,
   "metadata": {},
   "outputs": [],
   "source": [
    "import numpy as np\n",
    "import matplotlib.pyplot as plt\n",
    "import math"
   ]
  },
  {
   "cell_type": "markdown",
   "metadata": {},
   "source": [
    "# №1"
   ]
  },
  {
   "cell_type": "code",
   "execution_count": 2,
   "metadata": {},
   "outputs": [],
   "source": [
    "def computational_derivative_lagrange(x_array, y_array):\n",
    "    n = len(x_array)\n",
    "    \n",
    "    der_y_array = np.empty(n)\n",
    "\n",
    "    for i in range(n):\n",
    "        if i == 0:\n",
    "            h = x_array[1] - x_array[0]\n",
    "            der_y_array[0] = (-3*y_array[0] + 4*y_array[1] - y_array[2])/(2*h)\n",
    "        elif i == n-1:\n",
    "            h = x_array[n-1] - x_array[n-2]\n",
    "            der_y_array[n-1] = (y_array[n-3] - 4*y_array[n-2] + 3*y_array[n-1])/(2*h)\n",
    "        else:\n",
    "            h = x_array[i] - x_array[i-1]\n",
    "            der_y_array[i] = (y_array[i+1] - y_array[i-1])/(2*h)\n",
    "            \n",
    "    return der_y_array"
   ]
  },
  {
   "cell_type": "code",
   "execution_count": 3,
   "metadata": {},
   "outputs": [],
   "source": [
    "def f(x):\n",
    "    return math.exp(-2*x)"
   ]
  },
  {
   "cell_type": "code",
   "execution_count": 4,
   "metadata": {},
   "outputs": [
    {
     "data": {
      "image/png": "[encoded data removed]",
      "text/plain": [
       "<Figure size 432x288 with 1 Axes>"
      ]
     },
     "metadata": {
      "needs_background": "light"
     },
     "output_type": "display_data"
    }
   ],
   "source": [
    "x = np.linspace(-10,10,250)\n",
    "y = np.array(list(map(f, x)))\n",
    "\n",
    "plt.xlabel('x')\n",
    "plt.ylabel('y')\n",
    "plt.xlim( -6, 6 ) \n",
    "plt.ylim( -6, 6 ) \n",
    "plt.grid(True)\n",
    "\n",
    "plt.plot(x, y, label=\"y(x)\")\n",
    "\n",
    "der_y = computational_derivative_lagrange(x,y)\n",
    "plt.plot(x, der_y, label=\"y'(x)\")\n",
    "\n",
    "der_y_2 = computational_derivative_lagrange(x,der_y)\n",
    "plt.plot(x, der_y_2, label=\"y''(x)\")\n",
    "\n",
    "plt.ioff()\n",
    "plt.legend()\n",
    "plt.show()"
   ]
  },
  {
   "cell_type": "markdown",
   "metadata": {},
   "source": [
    "# №2"
   ]
  },
  {
   "cell_type": "code",
   "execution_count": 5,
   "metadata": {},
   "outputs": [],
   "source": [
    "def solution_dichodomy(x_array, y_array, eps = 0.01):\n",
    "    if eps < x_array[1] - x_array[0]:\n",
    "        raise ValueError(f\"eps is less than possible accuracy ({eps} < {x_array[1] - x_array[0]})\")\n",
    "    \n",
    "    same_sign      = lambda a, b: a < 0 and b < 0 or a > 0 and b > 0\n",
    "    different_sign = lambda a, b: a < 0 and b > 0 or a > 0 and b < 0\n",
    "    \n",
    "    n = len(x_array)\n",
    "    \n",
    "    i_min, i_max = 0, n - 1\n",
    "    \n",
    "    i_mid = (i_min + i_max) // 2 \n",
    "    mid_prev = None\n",
    "    \n",
    "    while True:\n",
    "        \n",
    "        if abs(y_array[i_mid]) <= eps:\n",
    "            break\n",
    "        elif mid_prev == i_mid:\n",
    "            break;\n",
    "        else:\n",
    "            mid_prev = i_mid\n",
    "            \n",
    "        i_min, i_max = (i_min, i_mid) if different_sign(y_array[i_min], y_array[i_mid]) \\\n",
    "                        else (i_mid, i_max)\n",
    "        \n",
    "        \n",
    "        i_mid = (i_min + i_max) // 2 \n",
    "        \n",
    "        \n",
    "    return x_array[i_mid], y_array[i_mid]"
   ]
  },
  {
   "cell_type": "code",
   "execution_count": 6,
   "metadata": {},
   "outputs": [
    {
     "name": "stdout",
     "output_type": "stream",
     "text": [
      "(-0.3421003421003377, -0.017813191080440882)\n"
     ]
    }
   ],
   "source": [
    "def f(x):\n",
    "    return math.exp(-2*x) - 2\n",
    "\n",
    "x = np.linspace(-100,100,1000000)\n",
    "y = np.array(list(map(f, x)))\n",
    "\n",
    "print(solution_dichodomy(x, y, 0.05))"
   ]
  },
  {
   "cell_type": "code",
   "execution_count": 7,
   "metadata": {},
   "outputs": [],
   "source": [
    "def solution_dichodomy_steps(x_array, y_array, eps = 0.01):\n",
    "    if eps < x_array[1] - x_array[0]:\n",
    "        raise ValueError(f\"eps is less than possible accuracy ({eps} < {x_array[1] - x_array[0]})\")\n",
    "    \n",
    "    same_sign      = lambda a, b: a < 0 and b < 0 or a > 0 and b > 0\n",
    "    different_sign = lambda a, b: a < 0 and b > 0 or a > 0 and b < 0\n",
    "    \n",
    "    n = len(x_array)\n",
    "    \n",
    "    steps = 0\n",
    "    \n",
    "    i_min, i_max = 0, n - 1\n",
    "    \n",
    "    i_mid = (i_min + i_max) // 2 \n",
    "    mid_prev = None\n",
    "    \n",
    "    while True:\n",
    "        \n",
    "        if abs(y_array[i_mid]) <= eps:\n",
    "            break\n",
    "        elif mid_prev == i_mid:\n",
    "            break;\n",
    "        else:\n",
    "            mid_prev = i_mid\n",
    "            \n",
    "        i_min, i_max = (i_min, i_mid) if different_sign(y_array[i_min], y_array[i_mid]) \\\n",
    "                        else (i_mid, i_max)\n",
    "        steps += 1\n",
    "        \n",
    "        i_mid = (i_min + i_max) // 2 \n",
    "        \n",
    "        \n",
    "    return steps"
   ]
  },
  {
   "cell_type": "code",
   "execution_count": 8,
   "metadata": {},
   "outputs": [
    {
     "data": {
      "image/png": "[encoded data removed]",
      "text/plain": [
       "<Figure size 432x288 with 1 Axes>"
      ]
     },
     "metadata": {
      "needs_background": "light"
     },
     "output_type": "display_data"
    }
   ],
   "source": [
    "x_ = np.array(list(np.linspace(0.1,1,10)) + [1/10**i for i in range(4)])\n",
    "y_ = np.array([solution_dichodomy_steps(x, y, eps_) for eps_ in x_])\n",
    "\n",
    "plt.xlabel('eps')\n",
    "plt.ylabel('N')\n",
    "plt.scatter(x_, y_)\n",
    "plt.show()"
   ]
  },
  {
   "cell_type": "code",
   "execution_count": 9,
   "metadata": {},
   "outputs": [],
   "source": [
    "def solution_newthon(unaryfunc, x_init = 0, eps = 0.05):\n",
    "    \n",
    "    def derivative_numeric(unaryfunc, x, h=0.00000001):\n",
    "        return (unaryfunc(x+h) - unaryfunc(x)) / h\n",
    "    \n",
    "    x = x_init - unaryfunc(x_init)/derivative_numeric(unaryfunc, x_init)\n",
    "    \n",
    "    while True:\n",
    "        \n",
    "        if abs(unaryfunc(x)) <= eps:\n",
    "            break\n",
    "            \n",
    "        x -= unaryfunc(x)/derivative_numeric(unaryfunc, x)\n",
    "        \n",
    "    return x, unaryfunc(x)"
   ]
  },
  {
   "cell_type": "code",
   "execution_count": 10,
   "metadata": {},
   "outputs": [
    {
     "name": "stdout",
     "output_type": "stream",
     "text": [
      "(-0.3470211495467517, 0.0017910385434261045)\n"
     ]
    }
   ],
   "source": [
    "print(solution_newthon(f))"
   ]
  },
  {
   "cell_type": "code",
   "execution_count": 11,
   "metadata": {},
   "outputs": [],
   "source": [
    "def solution_newthon_steps(unaryfunc, x_init = 0, eps = 0.05):\n",
    "    \n",
    "    def derivative_numeric(unaryfunc, x, h=0.00000001):\n",
    "        return (unaryfunc(x+h) - unaryfunc(x)) / h\n",
    "    \n",
    "    x = x_init - unaryfunc(x_init)/derivative_numeric(unaryfunc, x_init)\n",
    "    \n",
    "    steps = 0\n",
    "    \n",
    "    while True:\n",
    "        \n",
    "        if abs(unaryfunc(x)) <= eps:\n",
    "            break\n",
    "            \n",
    "        steps += 1\n",
    "        \n",
    "        x -= unaryfunc(x)/derivative_numeric(unaryfunc, x)\n",
    "        \n",
    "    return steps"
   ]
  },
  {
   "cell_type": "code",
   "execution_count": 12,
   "metadata": {},
   "outputs": [
    {
     "data": {
      "image/png": "[encoded data removed]",
      "text/plain": [
       "<Figure size 432x288 with 1 Axes>"
      ]
     },
     "metadata": {
      "needs_background": "light"
     },
     "output_type": "display_data"
    }
   ],
   "source": [
    "x_ = np.array(list(np.linspace(0.1,1,10)) + [1/10**i for i in range(4)])\n",
    "y_ = np.array([solution_newthon_steps(f, eps=eps_) for eps_ in x_])\n",
    "\n",
    "plt.xlabel('eps')\n",
    "plt.ylabel('N')\n",
    "plt.scatter(x_, y_)\n",
    "plt.show()"
   ]
  },
  {
   "cell_type": "markdown",
   "metadata": {},
   "source": [
    "# №3"
   ]
  },
  {
   "cell_type": "code",
   "execution_count": 13,
   "metadata": {},
   "outputs": [],
   "source": [
    "def s_t(t):\n",
    "    return -5*t**2 + 30*t + 20"
   ]
  },
  {
   "cell_type": "code",
   "execution_count": 14,
   "metadata": {},
   "outputs": [
    {
     "data": {
      "image/png": "[encoded data removed]",
      "text/plain": [
       "<Figure size 432x288 with 1 Axes>"
      ]
     },
     "metadata": {
      "needs_background": "light"
     },
     "output_type": "display_data"
    }
   ],
   "source": [
    "t = np.linspace(0,8,1000)\n",
    "s = np.array(list(map(s_t, t)))\n",
    "\n",
    "plt.xlabel('t')\n",
    "plt.ylabel('s')\n",
    "plt.grid(True)\n",
    "\n",
    "plt.plot(t, s)\n",
    "plt.show()"
   ]
  },
  {
   "cell_type": "code",
   "execution_count": 15,
   "metadata": {},
   "outputs": [
    {
     "data": {
      "image/png": "[encoded data removed]",
      "text/plain": [
       "<Figure size 432x288 with 1 Axes>"
      ]
     },
     "metadata": {
      "needs_background": "light"
     },
     "output_type": "display_data"
    }
   ],
   "source": [
    "v = computational_derivative_lagrange(t, s)\n",
    "\n",
    "plt.xlabel('t')\n",
    "plt.ylabel('v')\n",
    "plt.grid(True)\n",
    "plt.plot(t, v)\n",
    "plt.show()"
   ]
  },
  {
   "cell_type": "code",
   "execution_count": 16,
   "metadata": {},
   "outputs": [
    {
     "name": "stdout",
     "output_type": "stream",
     "text": [
      "t0 = 6.598598598598598\n",
      "t1 = 2.994994994994995\n"
     ]
    }
   ],
   "source": [
    "t0 = solution_dichodomy(t, s)[0]\n",
    "print(f\"t0 = {t0}\")\n",
    "\n",
    "t1 = solution_dichodomy(t, v)[0]\n",
    "print(f\"t1 = {t1}\")"
   ]
  }
 ],
 "metadata": {
  "kernelspec": {
   "display_name": "Python 3 (ipykernel)",
   "language": "python",
   "name": "python3"
  },
  "language_info": {
   "codemirror_mode": {
    "name": "ipython",
    "version": 3
   },
   "file_extension": ".py",
   "mimetype": "text/x-python",
   "name": "python",
   "nbconvert_exporter": "python",
   "pygments_lexer": "ipython3",
   "version": "3.8.2"
  }
 },
 "nbformat": 4,
 "nbformat_minor": 4
}
